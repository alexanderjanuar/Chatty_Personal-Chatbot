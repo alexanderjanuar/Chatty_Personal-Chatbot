{
 "cells": [
  {
   "cell_type": "code",
   "execution_count": 7,
   "metadata": {},
   "outputs": [],
   "source": [
    "import pandas as pd\n",
    "from transformers import AutoTokenizer\n",
    "from datasets import Dataset\n",
    "import pyarrow as pa\n",
    "import tensorflow as tf\n",
    "import nltk\n",
    "from nltk.corpus import stopwords\n",
    "from sklearn.metrics import accuracy_score\n",
    "from deep_translator import GoogleTranslator\n",
    "from pattern.text.en import singularize\n",
    "from nltk.stem import PorterStemmer\n",
    "from nltk.stem import WordNetLemmatizer\n",
    "import pandas as pd\n",
    "import tensorflow as tf\n",
    "from sklearn.model_selection import train_test_split\n",
    "from transformers import AutoTokenizer, TFAutoModelForSequenceClassification"
   ]
  },
  {
   "cell_type": "code",
   "execution_count": 4,
   "metadata": {},
   "outputs": [],
   "source": [
    "stop_words = set(stopwords.words('english'))\n",
    "stop_words.remove('who')\n",
    "\n",
    "def remove_stopwords(text):\n",
    "    #Translate\n",
    "    text = GoogleTranslator(source='auto', target='en').translate(text)\n",
    "\n",
    "    #Lowercase the text\n",
    "    text = text.lower()\n",
    "\n",
    "    #Split the text into words\n",
    "    words = text.split()\n",
    "\n",
    "    # Perform stemming\n",
    "    lemmatizer = WordNetLemmatizer()\n",
    "    words = [lemmatizer.lemmatize(word) for word in words]\n",
    "\n",
    "    filtered_words = [word for word in words if word.lower() not in stop_words]\n",
    "    return ' '.join(filtered_words)"
   ]
  },
  {
   "cell_type": "code",
   "execution_count": 10,
   "metadata": {},
   "outputs": [],
   "source": [
    "\n",
    "\n",
    "tokenizer = AutoTokenizer.from_pretrained('bert-base-uncased')\n",
    "# Load the dataset from the pandas DataFrame\n",
    "df = pd.read_csv(\"data.csv\")\n",
    "df['text'] = df['text'].apply(remove_stopwords)"
   ]
  },
  {
   "cell_type": "code",
   "execution_count": 82,
   "metadata": {},
   "outputs": [],
   "source": [
    "X = dict(tokenizer(df['text'].to_list(), padding=True, truncation=True, max_length=50, return_tensors='tf'))\n",
    "y ,unique_label = pd.factorize(df['label'])"
   ]
  },
  {
   "cell_type": "code",
   "execution_count": 11,
   "metadata": {},
   "outputs": [
    {
     "data": {
      "text/plain": [
       "array(['Full name', 'Age', 'Birthplace', 'Programming Language',\n",
       "       'General information', 'Coding Project', 'Frameworks',\n",
       "       'University'], dtype=object)"
      ]
     },
     "execution_count": 11,
     "metadata": {},
     "output_type": "execute_result"
    }
   ],
   "source": [
    "class_names = df['label'].unique()\n",
    "class_names"
   ]
  },
  {
   "cell_type": "code",
   "execution_count": 84,
   "metadata": {},
   "outputs": [
    {
     "name": "stderr",
     "output_type": "stream",
     "text": [
      "All model checkpoint layers were used when initializing TFBertForSequenceClassification.\n",
      "\n",
      "Some layers of TFBertForSequenceClassification were not initialized from the model checkpoint at bert-base-uncased and are newly initialized: ['classifier']\n",
      "You should probably TRAIN this model on a down-stream task to be able to use it for predictions and inference.\n"
     ]
    }
   ],
   "source": [
    "# Define a TensorFlow model\n",
    "model = TFAutoModelForSequenceClassification.from_pretrained('bert-base-uncased', num_labels=8)"
   ]
  },
  {
   "cell_type": "code",
   "execution_count": 85,
   "metadata": {},
   "outputs": [],
   "source": [
    "from tensorflow.keras import optimizers\n",
    "from tensorflow.keras import metrics\n",
    "from tensorflow.keras import losses"
   ]
  },
  {
   "cell_type": "code",
   "execution_count": 86,
   "metadata": {},
   "outputs": [
    {
     "name": "stdout",
     "output_type": "stream",
     "text": [
      "Epoch 1/15\n",
      "4/4 [==============================] - 31s 2s/step - loss: 2.0532 - accuracy: 0.2019\n",
      "Epoch 2/15\n",
      "4/4 [==============================] - 9s 2s/step - loss: 1.8775 - accuracy: 0.3558\n",
      "Epoch 3/15\n",
      "4/4 [==============================] - 9s 2s/step - loss: 1.6429 - accuracy: 0.5385\n",
      "Epoch 4/15\n",
      "4/4 [==============================] - 12s 3s/step - loss: 1.3888 - accuracy: 0.6154\n",
      "Epoch 5/15\n",
      "4/4 [==============================] - 11s 3s/step - loss: 1.1842 - accuracy: 0.7692\n",
      "Epoch 6/15\n",
      "4/4 [==============================] - 12s 3s/step - loss: 1.0091 - accuracy: 0.8269\n",
      "Epoch 7/15\n",
      "4/4 [==============================] - 11s 3s/step - loss: 0.7873 - accuracy: 0.8750\n",
      "Epoch 8/15\n",
      "4/4 [==============================] - 10s 2s/step - loss: 0.6408 - accuracy: 0.9231\n",
      "Epoch 9/15\n",
      "4/4 [==============================] - 9s 2s/step - loss: 0.5297 - accuracy: 0.9808\n",
      "Epoch 10/15\n",
      "4/4 [==============================] - 9s 2s/step - loss: 0.4190 - accuracy: 0.9904\n",
      "Epoch 11/15\n",
      "4/4 [==============================] - 9s 2s/step - loss: 0.3387 - accuracy: 0.9904\n",
      "Epoch 12/15\n",
      "4/4 [==============================] - 9s 2s/step - loss: 0.2631 - accuracy: 1.0000\n",
      "Epoch 13/15\n",
      "4/4 [==============================] - 9s 2s/step - loss: 0.2075 - accuracy: 1.0000\n",
      "Epoch 14/15\n",
      "4/4 [==============================] - 9s 2s/step - loss: 0.1711 - accuracy: 1.0000\n",
      "Epoch 15/15\n",
      "4/4 [==============================] - 9s 2s/step - loss: 0.1282 - accuracy: 1.0000\n"
     ]
    },
    {
     "data": {
      "text/plain": [
       "<keras.callbacks.History at 0x2270494c940>"
      ]
     },
     "execution_count": 86,
     "metadata": {},
     "output_type": "execute_result"
    }
   ],
   "source": [
    "# Train the TensorFlow model on the dataset\n",
    "model.compile(\n",
    "    optimizer=optimizers.Adam(learning_rate=5e-5),\n",
    "    loss=model.hf_compute_loss,\n",
    "    metrics=['accuracy']\n",
    ")\n",
    "model.fit(X, y,epochs=15)"
   ]
  },
  {
   "cell_type": "code",
   "execution_count": 34,
   "metadata": {},
   "outputs": [
    {
     "data": {
      "text/plain": [
       "'General information'"
      ]
     },
     "execution_count": 34,
     "metadata": {},
     "output_type": "execute_result"
    }
   ],
   "source": [
    "text = remove_stopwords(\"How are you\")\n",
    "new_X = dict(tokenizer(text, padding=True, truncation=True, max_length=50, return_tensors='tf'))\n",
    "\n",
    "predictions = model.predict(new_X,verbose=0)\n",
    "class_names[tf.argmax(predictions['logits'][0].tolist())]"
   ]
  },
  {
   "cell_type": "code",
   "execution_count": 95,
   "metadata": {},
   "outputs": [],
   "source": [
    "saved_directory = 'model'\n",
    "\n",
    "tokenizer.save_pretrained(saved_directory)\n",
    "model.save_pretrained(saved_directory)"
   ]
  }
 ],
 "metadata": {
  "kernelspec": {
   "display_name": "Python 3",
   "language": "python",
   "name": "python3"
  },
  "language_info": {
   "codemirror_mode": {
    "name": "ipython",
    "version": 3
   },
   "file_extension": ".py",
   "mimetype": "text/x-python",
   "name": "python",
   "nbconvert_exporter": "python",
   "pygments_lexer": "ipython3",
   "version": "3.9.7"
  },
  "orig_nbformat": 4
 },
 "nbformat": 4,
 "nbformat_minor": 2
}
